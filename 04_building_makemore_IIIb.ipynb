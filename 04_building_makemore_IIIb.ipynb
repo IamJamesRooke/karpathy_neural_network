{
 "cells": [
  {
   "cell_type": "markdown",
   "id": "d0b90f98",
   "metadata": {},
   "source": [
    "# Optimizing the Initialization II"
   ]
  },
  {
   "cell_type": "markdown",
   "id": "af831a90",
   "metadata": {},
   "source": [
    "https://youtu.be/P6sfmUTpUmc?si=w0jn8hUg_DLZvr7Z&t=1676"
   ]
  },
  {
   "cell_type": "markdown",
   "id": "4dbaaa8e",
   "metadata": {},
   "source": [
    "## Utilities"
   ]
  },
  {
   "cell_type": "code",
   "execution_count": 18,
   "id": "c091b560",
   "metadata": {},
   "outputs": [],
   "source": [
    "import torch\n",
    "import torch.nn.functional as F\n",
    "import matplotlib.pyplot as plt\n",
    "%matplotlib inline"
   ]
  },
  {
   "cell_type": "code",
   "execution_count": 19,
   "id": "bf99138e",
   "metadata": {},
   "outputs": [],
   "source": [
    "# Simple save and load functions\n",
    "# save_model(parameters)\n",
    "def save_model(parameters, filename=\"model.pt\"):\n",
    "    \"\"\"Save model parameters\"\"\"\n",
    "    torch.save(parameters, filename)\n",
    "    print(f\"Model saved to {filename}\")\n",
    "\n",
    "# To load later (after kernel restart):\n",
    "# parameters = load_model()\n",
    "def load_model(filename=\"model.pt\"):\n",
    "    \"\"\"Load model parameters\"\"\"\n",
    "    parameters = torch.load(filename)\n",
    "    for p in parameters:\n",
    "        p.requires_grad = True\n",
    "    print(f\"Model loaded from {filename}\")\n",
    "    return parameters"
   ]
  },
  {
   "cell_type": "markdown",
   "id": "902ec9e5",
   "metadata": {},
   "source": [
    "## Building Dataset"
   ]
  },
  {
   "cell_type": "code",
   "execution_count": 20,
   "id": "e3bb4650",
   "metadata": {},
   "outputs": [
    {
     "name": "stdout",
     "output_type": "stream",
     "text": [
      "['emma', 'olivia', 'ava', 'isabella', 'sophia', 'charlotte', 'mia', 'amelia']\n",
      "Number of Words:  32033\n"
     ]
    }
   ],
   "source": [
    "words = open('names.txt', 'r').read().splitlines()\n",
    "print(words[:8])\n",
    "print(\"Number of Words: \", len(words))"
   ]
  },
  {
   "cell_type": "code",
   "execution_count": 21,
   "id": "28227858",
   "metadata": {},
   "outputs": [],
   "source": [
    "# character list\n",
    "chars = sorted(list(set(''.join(words))))\n",
    "chars.insert(0, '.') # special starter/terminator character\n",
    "\n",
    "# string to integer\n",
    "stoi = {s: i for i, s in enumerate(chars)}\n",
    "\n",
    "# integer to string\n",
    "itos = {i: s for s, i in stoi.items()}"
   ]
  },
  {
   "cell_type": "code",
   "execution_count": 22,
   "id": "64041aea",
   "metadata": {},
   "outputs": [],
   "source": [
    "block_size = 3\n",
    "\n",
    "def build_dataset(words):\n",
    "\n",
    "    X, Y = [], []\n",
    "\n",
    "    for w in words:\n",
    "        context = [0] * block_size\n",
    "\n",
    "        for ch in w + '.':\n",
    "            \n",
    "            X.append(context)\n",
    "            ix = stoi[ch]\n",
    "            Y.append(ix)\n",
    "            context = context[1:] + [ix]\n",
    "\n",
    "    X = torch.tensor(X)\n",
    "    Y = torch.tensor(Y)\n",
    "    return X, Y"
   ]
  },
  {
   "cell_type": "code",
   "execution_count": 23,
   "id": "6990d4ae",
   "metadata": {},
   "outputs": [],
   "source": [
    "import random\n",
    "random.seed(42)\n",
    "random.shuffle(words)\n",
    "n1 = int(len(words) * 0.8)\n",
    "n2 = int(len(words) * 0.9)\n",
    "\n",
    "Xtr, Ytr    = build_dataset(words[:n1])         # Training Set: 80%\n",
    "Xdev, Ydev  = build_dataset(words[n1:n2])       # Development Set: 10%\n",
    "Xte, Yte    = build_dataset(words[n2:])         # Testing Set: 10%"
   ]
  },
  {
   "cell_type": "markdown",
   "id": "0ff42e51",
   "metadata": {},
   "source": [
    "## Building Model"
   ]
  },
  {
   "cell_type": "code",
   "execution_count": 24,
   "id": "1ec080b2",
   "metadata": {},
   "outputs": [],
   "source": [
    "# MLP Revisited\n",
    "vocab_size = len(chars)\n",
    "n_embd = 10 # dimensionality of the character embedding vectors\n",
    "n_hidden = 200 # number of neurons in the hidden layer of the MLP\n",
    "\n",
    "g = torch.Generator().manual_seed(2147483647)\n",
    "C = torch.randn((vocab_size, n_embd),                   generator=g)\n",
    "W1 = torch.randn((n_embd * block_size, n_hidden),       generator=g)\n",
    "b1 = torch.randn((n_hidden),                            generator=g) * 0.2\n",
    "W2 = torch.randn((n_hidden, vocab_size),                generator=g) * 0.01\n",
    "b2 = torch.randn((vocab_size),                          generator=g) * 0\n",
    "\n",
    "parameters = [C, W1, b1, W2, b2]\n",
    "\n",
    "# set parameters for back propagation\n",
    "for p in parameters:\n",
    "    p.requires_grad = True"
   ]
  },
  {
   "cell_type": "code",
   "execution_count": null,
   "id": "b2ed32dd",
   "metadata": {},
   "outputs": [],
   "source": [
    "# training the neural net\n",
    "max_steps = 200000 # number training epochs\n",
    "batch_size = 32 # number of samples processed per training epoch\n",
    "lossi = []\n",
    "\n",
    "n_total_samples = Xtr.shape[0]\n",
    "\n",
    "for i in range(max_steps):\n",
    "\n",
    "    # random sampling from dataset\n",
    "    ix = torch.randint(0, n_total_samples, (batch_size, ), generator=g)\n",
    "    Xb, Yb = Xtr[ix], Ytr[ix] # batch X, Y\n",
    "\n",
    "    # forward pass\n",
    "    emb = C[Xb] # embed characters into vectors\n",
    "    embcat = emb.view(emb.shape[0], -1) # concatenate the vectors\n",
    "    hpreact = embcat @ W1 + b1 # hidden layer pre-activation\n",
    "    h = torch.tanh(hpreact) # hidden layer\n",
    "    logits = h @ W2 + b2 # output later\n",
    "    loss = F.cross_entropy(logits, Yb) # loss function\n",
    "\n",
    "    # backwards pass\n",
    "    for p in parameters:\n",
    "        p.grad = None\n",
    "    loss.backward()\n",
    "\n",
    "    # update\n",
    "    learning_rate = 0.1 if i < 100000 else 0.01 # step learning rate decay\n",
    "    for p in parameters:\n",
    "        p.data += -learning_rate * p.grad\n",
    "\n",
    "    # track stats\n",
    "    if i % 10000 == 0: # print every 10000 steps\n",
    "        print(f'{i:7d}/{max_steps:7d}: {loss.item():.4f}')\n",
    "    lossi.append(loss.log10().item()) # Fixed indentation - now inside the loop"
   ]
  },
  {
   "cell_type": "code",
   "execution_count": 25,
   "id": "ad55ff62",
   "metadata": {},
   "outputs": [
    {
     "name": "stdout",
     "output_type": "stream",
     "text": [
      "Model saved to model.pt\n"
     ]
    }
   ],
   "source": [
    "save_model(parameters='parameters_makemore_III.pt')"
   ]
  },
  {
   "cell_type": "markdown",
   "id": "98eaa7a5",
   "metadata": {},
   "source": [
    "## Evaluating the Model"
   ]
  },
  {
   "cell_type": "code",
   "execution_count": null,
   "id": "0f2843b7",
   "metadata": {},
   "outputs": [],
   "source": [
    "load_model(filename='parameters_makemore_III.pt')"
   ]
  },
  {
   "cell_type": "code",
   "execution_count": null,
   "id": "8bd5bf47",
   "metadata": {},
   "outputs": [
    {
     "data": {
      "text/plain": [
       "[<matplotlib.lines.Line2D at 0x1c6e7fd8550>]"
      ]
     },
     "metadata": {},
     "output_type": "display_data"
    },
    {
     "data": {
      "image/png": "[encoded data removed]",
      "text/plain": [
       "<Figure size 640x480 with 1 Axes>"
      ]
     },
     "metadata": {},
     "output_type": "display_data"
    }
   ],
   "source": [
    "plt.plot(lossi)"
   ]
  },
  {
   "cell_type": "markdown",
   "id": "40317a54",
   "metadata": {},
   "source": [
    "Train / Test Loss Comparison"
   ]
  },
  {
   "cell_type": "code",
   "execution_count": null,
   "id": "f71efe9c",
   "metadata": {},
   "outputs": [
    {
     "name": "stdout",
     "output_type": "stream",
     "text": [
      "train 2.069589138031006\n",
      "val 2.131074905395508\n"
     ]
    }
   ],
   "source": [
    "@torch.no_grad # disable gradient tracking\n",
    "def split_loss(split):\n",
    "    x, y = {\n",
    "        'train': (Xtr, Ytr),\n",
    "        'val': (Xdev, Ydev),\n",
    "        'test': (Xte, Yte),\n",
    "    }[split]\n",
    "\n",
    "    emb = C[x] # (N, block_size, n_embd)\n",
    "    embcat = emb.view(emb.shape[0], -1)\n",
    "    h = torch.tanh(embcat @ W1 + b1) # )(N, n_hidden)\n",
    "    logits = h @ W2 + b2\n",
    "    loss = F.cross_entropy(logits, y)\n",
    "    print(split, loss.item())\n",
    "\n",
    "split_loss('train')\n",
    "split_loss('val')"
   ]
  },
  {
   "cell_type": "markdown",
   "id": "2f16299f",
   "metadata": {},
   "source": [
    "## Sampling from the Model"
   ]
  },
  {
   "cell_type": "code",
   "execution_count": null,
   "id": "9e81fc08",
   "metadata": {},
   "outputs": [
    {
     "name": "stdout",
     "output_type": "stream",
     "text": [
      "carman.\n",
      "amille.\n",
      "khyrmyn.\n",
      "reet.\n",
      "khalayane.\n",
      "mahnen.\n",
      "deliah.\n",
      "jareei.\n",
      "nellara.\n",
      "chaiivon.\n",
      "legen.\n",
      "ham.\n",
      "jorn.\n",
      "quintin.\n",
      "lilea.\n",
      "jadiquinterri.\n",
      "jarysia.\n",
      "kael.\n",
      "dustine.\n",
      "deciia.\n"
     ]
    }
   ],
   "source": [
    "# sampling from the model\n",
    "g = torch.Generator().manual_seed(2147483647 + 10)\n",
    "\n",
    "for _ in range(20):\n",
    "\n",
    "    out = []\n",
    "    context = [0] * block_size\n",
    "\n",
    "    while True:\n",
    "        # forward pass\n",
    "        emb = C[torch.tensor([context])]\n",
    "        h = torch.tanh(emb.view(1, -1) @ W1 + b1)\n",
    "        logits = h @ W2 + b2\n",
    "        probs = F.softmax(logits, dim=1)\n",
    "\n",
    "        #sample from distribution\n",
    "        ix = torch.multinomial(probs, num_samples=1, generator=g).item()\n",
    "\n",
    "        # shift context window\n",
    "        context = context[1:] + [ix]\n",
    "        out.append(ix)\n",
    "\n",
    "        # if we get special . token, break\n",
    "        if ix == 0:\n",
    "            break\n",
    "\n",
    "    print(''.join(itos[i] for i in out))"
   ]
  },
  {
   "cell_type": "markdown",
   "id": "91366111",
   "metadata": {},
   "source": [
    "# Notes"
   ]
  },
  {
   "cell_type": "code",
   "execution_count": 17,
   "id": "1cf3e487",
   "metadata": {},
   "outputs": [
    {
     "name": "stdout",
     "output_type": "stream",
     "text": [
      "tensor(-0.0054) tensor(1.0077)\n",
      "tensor(0.0018) tensor(0.9836)\n"
     ]
    },
    {
     "data": {
      "text/plain": [
       "(array([2.39824823e-05, 0.00000000e+00, 2.39824823e-05, 2.39824823e-05,\n",
       "        7.19474468e-05, 7.19474468e-05, 2.15842341e-04, 4.07702199e-04,\n",
       "        4.79649646e-04, 6.95491986e-04, 2.13444092e-03, 2.87789787e-03,\n",
       "        4.50870667e-03, 8.39386880e-03, 1.22550484e-02, 1.89941260e-02,\n",
       "        3.00980153e-02, 4.20652739e-02, 6.15150670e-02, 8.87351844e-02,\n",
       "        1.26387682e-01, 1.76559035e-01, 2.25075596e-01, 2.81266552e-01,\n",
       "        3.38129018e-01, 3.86237877e-01, 4.26840220e-01, 4.36840915e-01,\n",
       "        4.18854053e-01, 3.74030794e-01, 3.31102150e-01, 2.67644502e-01,\n",
       "        2.07232629e-01, 1.55886135e-01, 1.18785235e-01, 8.13965449e-02,\n",
       "        5.92127487e-02, 4.01946403e-02, 2.68843626e-02, 1.66678252e-02,\n",
       "        1.03604323e-02, 6.90695490e-03, 3.86117965e-03, 2.90188036e-03,\n",
       "        1.63080879e-03, 7.19474468e-04, 5.99562057e-04, 4.31684681e-04,\n",
       "        2.15842341e-04, 4.79649646e-05]),\n",
       " array([-5.70546007, -5.49697456, -5.28848906, -5.08000355, -4.87151804,\n",
       "        -4.66303253, -4.45454702, -4.24606152, -4.03757601, -3.8290905 ,\n",
       "        -3.62060499, -3.41211948, -3.20363398, -2.99514847, -2.78666296,\n",
       "        -2.57817745, -2.36969194, -2.16120644, -1.95272093, -1.74423542,\n",
       "        -1.53574991, -1.3272644 , -1.1187789 , -0.91029339, -0.70180788,\n",
       "        -0.49332237, -0.28483686, -0.07635136,  0.13213415,  0.34061966,\n",
       "         0.54910517,  0.75759068,  0.96607618,  1.17456169,  1.3830472 ,\n",
       "         1.59153271,  1.80001822,  2.00850372,  2.21698923,  2.42547474,\n",
       "         2.63396025,  2.84244576,  3.05093126,  3.25941677,  3.46790228,\n",
       "         3.67638779,  3.88487329,  4.0933588 ,  4.30184431,  4.51032982,\n",
       "         4.71881533]),\n",
       " <BarContainer object of 50 artists>)"
      ]
     },
     "execution_count": 17,
     "metadata": {},
     "output_type": "execute_result"
    },
    {
     "data": {
      "image/png": "[encoded data removed]",
      "text/plain": [
       "<Figure size 2000x500 with 2 Axes>"
      ]
     },
     "metadata": {},
     "output_type": "display_data"
    }
   ],
   "source": [
    "x = torch.randn(1000, 10)\n",
    "w = torch.randn(10, 200) / 10 ** 0.5 # number of inputs squared\n",
    "y = x @ w\n",
    "print(x.mean(), x.std())\n",
    "print(y.mean(), y.std())\n",
    "plt.figure(figsize=(20,5))\n",
    "plt.subplot(121)\n",
    "plt.hist(x.view(-1).tolist(), 50, density=True)\n",
    "plt.subplot(122)\n",
    "plt.hist(y.view(-1).tolist(), 50, density=True)"
   ]
  }
 ],
 "metadata": {
  "kernelspec": {
   "display_name": "Python 3",
   "language": "python",
   "name": "python3"
  },
  "language_info": {
   "codemirror_mode": {
    "name": "ipython",
    "version": 3
   },
   "file_extension": ".py",
   "mimetype": "text/x-python",
   "name": "python",
   "nbconvert_exporter": "python",
   "pygments_lexer": "ipython3",
   "version": "3.13.3"
  }
 },
 "nbformat": 4,
 "nbformat_minor": 5
}
