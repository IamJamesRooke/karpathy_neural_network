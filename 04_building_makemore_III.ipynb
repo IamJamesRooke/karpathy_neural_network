{
 "cells": [
  {
   "cell_type": "markdown",
   "id": "7da0bbfa",
   "metadata": {},
   "source": [
    "# 🧠 Building `makemore` Part 3: Activations, Gradients, BatchNorm\n",
    "\n",
    "> **Tutorial Series:** Neural Networks: Zero to Hero  \n",
    "> **Video Link:** [Building makemore Part 3](https://www.youtube.com/watch?v=P6sfmUTpUmc&list=PLAqhIrjkxbuWI23v9cThsA9GvCAUhRvKZ&index=4)  \n",
    "> **Focus Areas:** Understanding activations, gradients, and batch normalization in neural networks\n",
    "\n",
    "## 📋 Overview\n",
    "This notebook covers advanced concepts in building neural networks, specifically focusing on:\n",
    "- **Activations**: How neurons fire and pass information\n",
    "- **Gradients**: How the network learns through backpropagation  \n",
    "- **Batch Normalization**: Stabilizing training and improving performance"
   ]
  },
  {
   "cell_type": "markdown",
   "id": "7b2c4c21",
   "metadata": {},
   "source": [
    "### 🎯 Starting Point\n",
    "**Video Timestamp:** [1:23 - Setting up the foundation](https://youtu.be/P6sfmUTpUmc?si=NaDZmPDVSSVEshtF&t=83)"
   ]
  },
  {
   "cell_type": "markdown",
   "id": "045316ba",
   "metadata": {},
   "source": [
    "## 📦 Imports and Setup\n",
    "Setting up our development environment with essential libraries for neural network implementation."
   ]
  },
  {
   "cell_type": "code",
   "execution_count": 92,
   "id": "4c0afecc",
   "metadata": {},
   "outputs": [],
   "source": [
    "import torch\n",
    "import torch.nn.functional as F\n",
    "import matplotlib.pyplot as plt\n",
    "%matplotlib inline"
   ]
  },
  {
   "cell_type": "code",
   "execution_count": 93,
   "id": "e580737d",
   "metadata": {},
   "outputs": [
    {
     "name": "stdout",
     "output_type": "stream",
     "text": [
      "['emma', 'olivia', 'ava', 'isabella', 'sophia', 'charlotte', 'mia', 'amelia']\n",
      "Number of Words:  32033\n"
     ]
    }
   ],
   "source": [
    "words = open('names.txt', 'r').read().splitlines()\n",
    "print(words[:8])\n",
    "print(\"Number of Words: \", len(words))"
   ]
  },
  {
   "cell_type": "markdown",
   "id": "899f0874",
   "metadata": {},
   "source": [
    "## 🔤 Character Vocabulary Setup\n",
    "Creating the character-to-integer mappings that will serve as our model's vocabulary.\n",
    "\n",
    "**Components:**\n",
    "- `chars`: Sorted list of unique characters from our dataset\n",
    "- `stoi`: String-to-integer mapping (encoding)  \n",
    "- `itos`: Integer-to-string mapping (decoding)\n",
    "- Special `.` token for start/end of sequences"
   ]
  },
  {
   "cell_type": "code",
   "execution_count": 94,
   "id": "d38f6ef3",
   "metadata": {},
   "outputs": [],
   "source": [
    "# character list\n",
    "chars = sorted(list(set(''.join(words))))\n",
    "chars.insert(0, '.') # special starter/terminator character\n",
    "\n",
    "# string to integer\n",
    "stoi = {s: i for i, s in enumerate(chars)}\n",
    "\n",
    "# integer to string\n",
    "itos = {i: s for s, i in stoi.items()}"
   ]
  },
  {
   "cell_type": "markdown",
   "id": "c0190269",
   "metadata": {},
   "source": [
    "## 🏗️ Dataset Building Function\n",
    "Creating training examples from our name dataset using a sliding window approach.\n",
    "\n",
    "**Function Logic:**\n",
    "1. **Context Window**: Uses `block_size` previous characters to predict the next\n",
    "2. **Sliding Window**: Moves through each name character by character\n",
    "3. **Tensor Conversion**: Converts lists to PyTorch tensors for training\n",
    "\n",
    "**Parameters:**\n",
    "- `words`: List of names to process\n",
    "- `block_size`: Size of context window (default: 3 characters)"
   ]
  },
  {
   "cell_type": "code",
   "execution_count": 95,
   "id": "8e796e3b",
   "metadata": {},
   "outputs": [],
   "source": [
    "block_size = 3\n",
    "\n",
    "def build_dataset(words):\n",
    "\n",
    "    X, Y = [], []\n",
    "\n",
    "    for w in words:\n",
    "        context = [0] * block_size\n",
    "\n",
    "        for ch in w + '.':\n",
    "            \n",
    "            X.append(context)\n",
    "            ix = stoi[ch]\n",
    "            Y.append(ix)\n",
    "            context = context[1:] + [ix]\n",
    "\n",
    "    X = torch.tensor(X)\n",
    "    Y = torch.tensor(Y)\n",
    "    return X, Y"
   ]
  },
  {
   "cell_type": "code",
   "execution_count": 96,
   "id": "45981090",
   "metadata": {},
   "outputs": [
    {
     "name": "stdout",
     "output_type": "stream",
     "text": [
      "[., ., .] ⇨ [m]\n",
      "[0, 0, 0] ⇨ [13]\n",
      "\n",
      "[., ., m] ⇨ [.]\n",
      "[0, 0, 13] ⇨ [0]\n",
      "\n",
      "[., ., .] ⇨ [a]\n",
      "[0, 0, 0] ⇨ [1]\n",
      "\n",
      "[., ., a] ⇨ [.]\n",
      "[0, 0, 1] ⇨ [0]\n",
      "\n",
      "[., ., .] ⇨ [r]\n",
      "[0, 0, 0] ⇨ [18]\n",
      "\n",
      "[., ., r] ⇨ [.]\n",
      "[0, 0, 18] ⇨ [0]\n",
      "\n",
      "[., ., .] ⇨ [i]\n",
      "[0, 0, 0] ⇨ [9]\n",
      "\n",
      "[., ., i] ⇨ [.]\n",
      "[0, 0, 9] ⇨ [0]\n",
      "\n",
      "[., ., .] ⇨ [a]\n",
      "[0, 0, 0] ⇨ [1]\n",
      "\n",
      "[., ., a] ⇨ [.]\n",
      "[0, 0, 1] ⇨ [0]\n",
      "\n",
      "[., ., .] ⇨ [n]\n",
      "[0, 0, 0] ⇨ [14]\n",
      "\n",
      "[., ., n] ⇨ [.]\n",
      "[0, 0, 14] ⇨ [0]\n",
      "\n",
      "[., ., .] ⇨ [a]\n",
      "[0, 0, 0] ⇨ [1]\n",
      "\n",
      "[., ., a] ⇨ [.]\n",
      "[0, 0, 1] ⇨ [0]\n",
      "\n"
     ]
    }
   ],
   "source": [
    "sampleX, sampleY = build_dataset('mariana') # sample with 'james'\n",
    "\n",
    "for x, y in zip(sampleX, sampleY):\n",
    "    print(f\"[{itos[x[0].item()]}, {itos[x[1].item()]}, {itos[x[2].item()]}] ⇨ [{itos[y.item()]}]\")\n",
    "    print(f\"{x.tolist()} ⇨ [{y.item()}]\\n\")"
   ]
  },
  {
   "cell_type": "markdown",
   "id": "2a2e34c3",
   "metadata": {},
   "source": [
    "## 📊 Train/Validation/Test Split\n",
    "Dividing our dataset into three parts for proper machine learning workflow.\n",
    "\n",
    "**Split Configuration:**\n",
    "- 🏋️ **Training Set**: 80% of data - Used to train the model\n",
    "- 🔍 **Development Set**: 10% of data - Used for hyperparameter tuning  \n",
    "- 🧪 **Test Set**: 10% of data - Final evaluation of model performance\n",
    "\n",
    "> **Note:** We shuffle the dataset first to ensure random distribution across splits."
   ]
  },
  {
   "cell_type": "code",
   "execution_count": 97,
   "id": "d51a86a2",
   "metadata": {},
   "outputs": [],
   "source": [
    "import random\n",
    "random.seed(42)\n",
    "random.shuffle(words)\n",
    "n1 = int(len(words) * 0.8)\n",
    "n2 = int(len(words) * 0.9)\n",
    "\n",
    "Xtr, Ytr    = build_dataset(words[:n1])         # Training Set: 80%\n",
    "Xdev, Ydev  = build_dataset(words[n1:n2])       # Development Set: 10%\n",
    "Xte, Yte    = build_dataset(words[n2:])         # Testing Set: 10%"
   ]
  },
  {
   "cell_type": "code",
   "execution_count": 98,
   "id": "a87daccc",
   "metadata": {},
   "outputs": [
    {
     "name": "stdout",
     "output_type": "stream",
     "text": [
      "torch.Size([182625, 3]) torch.Size([182625])\n",
      "torch.Size([22655, 3]) torch.Size([22655])\n",
      "torch.Size([22866, 3]) torch.Size([22866])\n"
     ]
    }
   ],
   "source": [
    "print(Xtr.shape, Ytr.shape)\n",
    "print(Xdev.shape, Ydev.shape)\n",
    "print(Xte.shape, Yte.shape)"
   ]
  },
  {
   "cell_type": "code",
   "execution_count": 99,
   "id": "a081d3da",
   "metadata": {},
   "outputs": [],
   "source": [
    "# MLP Revisited\n",
    "vocab_size = len(chars)\n",
    "n_embd = 10 # dimensionality of the character embedding vectors\n",
    "n_hidden = 200 # number of neurons in the hidden layer of the MLP\n",
    "\n",
    "g = torch.Generator().manual_seed(2147483647)\n",
    "C = torch.randn((vocab_size, n_embd),                   generator=g)\n",
    "W1 = torch.randn((n_embd * block_size, n_hidden),       generator=g)\n",
    "b1 = torch.randn((n_hidden),                            generator=g)\n",
    "W2 = torch.randn((n_hidden, vocab_size),                generator=g)\n",
    "b2 = torch.randn((vocab_size))\n",
    "\n",
    "parameters = [C, W1, b1, W2, b2]"
   ]
  },
  {
   "cell_type": "markdown",
   "id": "f3ea363c",
   "metadata": {},
   "source": [
    "## 🧠 Neural Network Architecture Setup\n",
    "Building our Multi-Layer Perceptron (MLP) with embedding layers for character-level language modeling.\n",
    "\n",
    "**Architecture Components:**\n",
    "- 🎯 **Embedding Layer**: `C` - Maps characters to dense vector representations\n",
    "- 🔗 **Hidden Layer**: `W1`, `b1` - First transformation with 200 neurons\n",
    "- 📊 **Output Layer**: `W2`, `b2` - Final prediction layer mapping to vocabulary\n",
    "\n",
    "**Hyperparameters:**\n",
    "- `vocab_size`: Total number of unique characters in our vocabulary\n",
    "- `n_embd`: Dimensionality of character embeddings (10D)\n",
    "- `n_hidden`: Number of neurons in hidden layer (200)\n",
    "- `block_size`: Context window size (3 characters)"
   ]
  },
  {
   "cell_type": "code",
   "execution_count": 100,
   "id": "ceaef334",
   "metadata": {},
   "outputs": [],
   "source": [
    "# set parameters for back propagation\n",
    "for p in parameters:\n",
    "    p.requires_grad = True"
   ]
  },
  {
   "cell_type": "markdown",
   "id": "09930add",
   "metadata": {},
   "source": [
    "## ⚙️ Parameter Configuration\n",
    "Enabling gradient computation for all model parameters to allow backpropagation."
   ]
  },
  {
   "cell_type": "code",
   "execution_count": 101,
   "id": "08d1eb7f",
   "metadata": {},
   "outputs": [
    {
     "name": "stdout",
     "output_type": "stream",
     "text": [
      "Total Parameters:  11897\n"
     ]
    }
   ],
   "source": [
    "# get sum of parameters\n",
    "print(\"Total Parameters: \", sum(p.nelement()for p in parameters))"
   ]
  },
  {
   "cell_type": "markdown",
   "id": "be341138",
   "metadata": {},
   "source": [
    "### 📈 Model Size Analysis\n",
    "Calculating the total number of trainable parameters in our neural network."
   ]
  },
  {
   "cell_type": "code",
   "execution_count": 102,
   "id": "628b1fa2",
   "metadata": {},
   "outputs": [
    {
     "name": "stdout",
     "output_type": "stream",
     "text": [
      "      0/ 200000: 26.8600\n",
      "  10000/ 200000: 2.5388\n",
      "  10000/ 200000: 2.5388\n",
      "  20000/ 200000: 2.1177\n",
      "  20000/ 200000: 2.1177\n",
      "  30000/ 200000: 2.4573\n",
      "  30000/ 200000: 2.4573\n",
      "  40000/ 200000: 2.5676\n",
      "  40000/ 200000: 2.5676\n",
      "  50000/ 200000: 1.9535\n",
      "  50000/ 200000: 1.9535\n",
      "  60000/ 200000: 2.3781\n",
      "  60000/ 200000: 2.3781\n",
      "  70000/ 200000: 1.7906\n",
      "  70000/ 200000: 1.7906\n",
      "  80000/ 200000: 2.5487\n",
      "  80000/ 200000: 2.5487\n",
      "  90000/ 200000: 2.3252\n",
      "  90000/ 200000: 2.3252\n",
      " 100000/ 200000: 2.1811\n",
      " 100000/ 200000: 2.1811\n",
      " 110000/ 200000: 1.9288\n",
      " 110000/ 200000: 1.9288\n",
      " 120000/ 200000: 1.9644\n",
      " 120000/ 200000: 1.9644\n",
      " 130000/ 200000: 2.2330\n",
      " 130000/ 200000: 2.2330\n",
      " 140000/ 200000: 1.8585\n",
      " 140000/ 200000: 1.8585\n",
      " 150000/ 200000: 2.3067\n",
      " 150000/ 200000: 2.3067\n",
      " 160000/ 200000: 2.2053\n",
      " 160000/ 200000: 2.2053\n",
      " 170000/ 200000: 1.9159\n",
      " 170000/ 200000: 1.9159\n",
      " 180000/ 200000: 1.6473\n",
      " 180000/ 200000: 1.6473\n",
      " 190000/ 200000: 2.1449\n",
      " 190000/ 200000: 2.1449\n"
     ]
    }
   ],
   "source": [
    "# training the neural net\n",
    "max_steps = 200000 # number training epochs\n",
    "batch_size = 32 # number of samples processed per training epoch\n",
    "lossi = []\n",
    "\n",
    "n_total_samples = Xtr.shape[0]\n",
    "\n",
    "for i in range(max_steps):\n",
    "\n",
    "    # random sampling from dataset\n",
    "    ix = torch.randint(0, n_total_samples, (batch_size, ), generator=g)\n",
    "    Xb, Yb = Xtr[ix], Ytr[ix] # batch X, Y\n",
    "\n",
    "    # forward pass\n",
    "    emb = C[Xb] # embed characters into vectors\n",
    "    embcat = emb.view(emb.shape[0], -1) # concatenate the vectors\n",
    "    hpreact = embcat @ W1 + b1 # hidden layer pre-activation\n",
    "    h = torch.tanh(hpreact) # hidden layer\n",
    "    logits = h @ W2 + b2 # output later\n",
    "    loss = F.cross_entropy(logits, Yb) # loss function\n",
    "\n",
    "    # backwards pass\n",
    "    for p in parameters:\n",
    "        p.grad = None\n",
    "    loss.backward()\n",
    "\n",
    "    # update\n",
    "    learning_rate = 0.1 if i < 100000 else 0.01 # step learning rate decay\n",
    "    for p in parameters:\n",
    "        p.data += -learning_rate * p.grad\n",
    "\n",
    "    # track stats\n",
    "    if i % 10000 == 0: # print every 10000 steps\n",
    "        print(f'{i:7d}/{max_steps:7d}: {loss.item():.4f}')\n",
    "    lossi.append(loss.log10().item())"
   ]
  },
  {
   "cell_type": "markdown",
   "id": "892e17ff",
   "metadata": {},
   "source": [
    "## 🏃‍♂️ Training Loop\n",
    "Main training process using stochastic gradient descent with mini-batches.\n",
    "\n",
    "**Training Configuration:**\n",
    "- 📊 **Max Steps**: 200,000 training iterations\n",
    "- 🎯 **Batch Size**: 32 samples per mini-batch\n",
    "- 📉 **Learning Rate**: 0.1 → 0.01 (step decay at 100k iterations)\n",
    "- 🔄 **Optimization**: SGD with gradient descent\n",
    "\n",
    "**Forward Pass:**\n",
    "1. **Embedding**: Convert character indices to vectors\n",
    "2. **Concatenation**: Flatten context window embeddings  \n",
    "3. **Hidden Layer**: Apply linear transformation + tanh activation\n",
    "4. **Output**: Generate logits for next character prediction\n",
    "5. **Loss**: Cross-entropy between predictions and targets\n",
    "\n",
    "**Backward Pass:**\n",
    "1. **Zero Gradients**: Clear previous gradients\n",
    "2. **Backpropagate**: Compute gradients via automatic differentiation\n",
    "3. **Update**: Adjust parameters using computed gradients"
   ]
  },
  {
   "cell_type": "code",
   "execution_count": 103,
   "id": "a9d12ccc",
   "metadata": {},
   "outputs": [
    {
     "data": {
      "text/plain": [
       "[<matplotlib.lines.Line2D at 0x296ce259e50>]"
      ]
     },
     "execution_count": 103,
     "metadata": {},
     "output_type": "execute_result"
    },
    {
     "data": {
      "image/png": "[encoded data removed]",
      "text/plain": [
       "<Figure size 640x480 with 1 Axes>"
      ]
     },
     "metadata": {},
     "output_type": "display_data"
    }
   ],
   "source": [
    "plt.plot(lossi)"
   ]
  },
  {
   "cell_type": "markdown",
   "id": "d6ce4694",
   "metadata": {},
   "source": [
    "### 📊 Training Loss Visualization\n",
    "Plotting the training loss curve to monitor learning progress over iterations."
   ]
  },
  {
   "cell_type": "code",
   "execution_count": 106,
   "id": "ba6737f2",
   "metadata": {},
   "outputs": [
    {
     "name": "stdout",
     "output_type": "stream",
     "text": [
      "train 2.1221742630004883\n",
      "val 2.163158416748047\n"
     ]
    }
   ],
   "source": [
    "# evaluating the model\n",
    "\n",
    "@torch.no_grad # disable gradient tracking\n",
    "def split_loss(split):\n",
    "    x, y = {\n",
    "        'train': (Xtr, Ytr),\n",
    "        'val': (Xdev, Ydev),\n",
    "        'test': (Xte, Yte),\n",
    "    }[split]\n",
    "\n",
    "    emb = C[x] # (N, block_size, n_embd)\n",
    "    embcat = emb.view(emb.shape[0], -1)\n",
    "    h = torch.tanh(embcat @ W1 + b1) # )(N, n_hidden)\n",
    "    logits = h @ W2 + b2\n",
    "    loss = F.cross_entropy(logits, y)\n",
    "    print(split, loss.item())\n",
    "\n",
    "split_loss('train')\n",
    "split_loss('val')"
   ]
  },
  {
   "cell_type": "markdown",
   "id": "6d462d49",
   "metadata": {},
   "source": [
    "## 🔍 Model Evaluation\n",
    "Assessing model performance across training, validation, and test sets.\n",
    "\n",
    "**Evaluation Strategy:**\n",
    "- 🚫 **No Gradients**: Disable gradient computation for efficiency\n",
    "- 📊 **Cross-Entropy Loss**: Measure prediction accuracy on each split\n",
    "- 🎯 **Overfitting Check**: Compare train vs validation performance\n",
    "\n",
    "> **Key Insight:** If training loss << validation loss, the model is overfitting!"
   ]
  },
  {
   "cell_type": "code",
   "execution_count": 110,
   "id": "3a240311",
   "metadata": {},
   "outputs": [
    {
     "name": "stdout",
     "output_type": "stream",
     "text": [
      "carmah.\n",
      "amille.\n",
      "khy.\n",
      "mili.\n",
      "tatyanna.\n",
      "sane.\n",
      "mahnen.\n",
      "amerynt.\n",
      "kaeli.\n",
      "nellara.\n",
      "chaiir.\n",
      "kaleigh.\n",
      "ham.\n",
      "join.\n",
      "quinn.\n",
      "salin.\n",
      "alianni.\n",
      "wazelo.\n",
      "dearixi.\n",
      "jaxeenivran.\n"
     ]
    }
   ],
   "source": [
    "# sampling from the model\n",
    "g = torch.Generator().manual_seed(2147483647 + 10)\n",
    "\n",
    "for _ in range(20):\n",
    "\n",
    "    out = []\n",
    "    context = [0] * block_size\n",
    "\n",
    "    while True:\n",
    "        # forward pass\n",
    "        emb = C[torch.tensor([context])]\n",
    "        h = torch.tanh(emb.view(1, -1) @ W1 + b1)\n",
    "        logits = h @ W2 + b2\n",
    "        probs = F.softmax(logits, dim=1)\n",
    "\n",
    "        #sample from distribution\n",
    "        ix = torch.multinomial(probs, num_samples=1, generator=g).item()\n",
    "\n",
    "        # shift context window\n",
    "        context = context[1:] + [ix]\n",
    "        out.append(ix)\n",
    "\n",
    "        # if we get special . token, break\n",
    "        if ix == 0:\n",
    "            break\n",
    "\n",
    "    print(''.join(itos[i] for i in out))"
   ]
  },
  {
   "cell_type": "markdown",
   "id": "76479cc8",
   "metadata": {},
   "source": [
    "## 🎲 Name Generation\n",
    "Sampling new names from our trained model using probabilistic generation.\n",
    "\n",
    "**Generation Process:**\n",
    "1. **Initialize Context**: Start with empty context window\n",
    "2. **Forward Pass**: Get probability distribution over next characters\n",
    "3. **Sample**: Randomly select next character based on probabilities\n",
    "4. **Update Context**: Shift window and add predicted character\n",
    "5. **Repeat**: Continue until we generate the end token (`.`)\n",
    "\n",
    "**Sampling Strategy:**\n",
    "- 🎯 **Multinomial Sampling**: Probabilistic character selection\n",
    "- 🔄 **Autoregressive**: Use previous predictions as input for next prediction\n",
    "- 🛑 **Stop Condition**: Generation ends when model outputs termination token\n",
    "\n",
    "> **Result:** Creative new names that follow the patterns learned from training data!"
   ]
  },
  {
   "cell_type": "markdown",
   "id": "7353f839",
   "metadata": {},
   "source": []
  }
 ],
 "metadata": {
  "kernelspec": {
   "display_name": "Python 3",
   "language": "python",
   "name": "python3"
  },
  "language_info": {
   "codemirror_mode": {
    "name": "ipython",
    "version": 3
   },
   "file_extension": ".py",
   "mimetype": "text/x-python",
   "name": "python",
   "nbconvert_exporter": "python",
   "pygments_lexer": "ipython3",
   "version": "3.13.3"
  }
 },
 "nbformat": 4,
 "nbformat_minor": 5
}
