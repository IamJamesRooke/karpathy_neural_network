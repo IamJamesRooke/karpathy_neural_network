{
 "cells": [
  {
   "cell_type": "markdown",
   "id": "7da0bbfa",
   "metadata": {},
   "source": [
    "# Building `makemore` Part 3:\n",
    "**Activations, Gradients, BatchNorm**\n",
    "\n",
    "https://www.youtube.com/watch?v=P6sfmUTpUmc&list=PLAqhIrjkxbuWI23v9cThsA9GvCAUhRvKZ&index=4"
   ]
  },
  {
   "cell_type": "markdown",
   "id": "7b2c4c21",
   "metadata": {},
   "source": [
    "https://youtu.be/P6sfmUTpUmc?si=NaDZmPDVSSVEshtF&t=83"
   ]
  },
  {
   "cell_type": "markdown",
   "id": "4c0afecc",
   "metadata": {},
   "source": []
  }
 ],
 "metadata": {
  "language_info": {
   "name": "python"
  }
 },
 "nbformat": 4,
 "nbformat_minor": 5
}
