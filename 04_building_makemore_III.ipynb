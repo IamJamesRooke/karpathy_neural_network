{
 "cells": [
  {
   "cell_type": "markdown",
   "id": "7da0bbfa",
   "metadata": {},
   "source": [
    "# 🧠 Building `makemore` Part 3: Activations, Gradients, BatchNorm\n",
    "\n",
    "> **Tutorial Series:** Neural Networks: Zero to Hero  \n",
    "> **Video Link:** [Building makemore Part 3](https://www.youtube.com/watch?v=P6sfmUTpUmc&list=PLAqhIrjkxbuWI23v9cThsA9GvCAUhRvKZ&index=4)  \n",
    "> **Focus Areas:** Understanding activations, gradients, and batch normalization in neural networks\n",
    "\n",
    "## 📋 Overview\n",
    "This notebook covers advanced concepts in building neural networks, specifically focusing on:\n",
    "- **Activations**: How neurons fire and pass information\n",
    "- **Gradients**: How the network learns through backpropagation  \n",
    "- **Batch Normalization**: Stabilizing training and improving performance"
   ]
  },
  {
   "cell_type": "markdown",
   "id": "7b2c4c21",
   "metadata": {},
   "source": [
    "### 🎯 Starting Point\n",
    "**Video Timestamp:** [1:23 - Setting up the foundation](https://youtu.be/P6sfmUTpUmc?si=NaDZmPDVSSVEshtF&t=83)"
   ]
  },
  {
   "cell_type": "markdown",
   "id": "045316ba",
   "metadata": {},
   "source": [
    "## 📦 Imports and Setup\n",
    "Setting up our development environment with essential libraries for neural network implementation."
   ]
  },
  {
   "cell_type": "code",
   "execution_count": 1,
   "id": "4c0afecc",
   "metadata": {},
   "outputs": [],
   "source": [
    "import torch\n",
    "import torch.nn.functional as F\n",
    "import matplotlib.pyplot as plt\n",
    "%matplotlib inline"
   ]
  },
  {
   "cell_type": "markdown",
   "id": "168dc273",
   "metadata": {},
   "source": [
    "A function to save parameters"
   ]
  },
  {
   "cell_type": "code",
   "execution_count": 7,
   "id": "4a302635",
   "metadata": {},
   "outputs": [
    {
     "name": "stdout",
     "output_type": "stream",
     "text": [
      "Model saved to model.pt\n"
     ]
    }
   ],
   "source": [
    "# Simple save and load functions\n",
    "def save_model(parameters, filename=\"model.pt\"):\n",
    "    \"\"\"Save model parameters\"\"\"\n",
    "    torch.save(parameters, filename)\n",
    "    print(f\"Model saved to {filename}\")\n",
    "\n",
    "def load_model(filename=\"model.pt\"):\n",
    "    \"\"\"Load model parameters\"\"\"\n",
    "    parameters = torch.load(filename)\n",
    "    for p in parameters:\n",
    "        p.requires_grad = True\n",
    "    print(f\"Model loaded from {filename}\")\n",
    "    return parameters\n",
    "\n",
    "# Save your trained model\n",
    "save_model(parameters)\n",
    "\n",
    "# To load later (after kernel restart):\n",
    "# parameters = load_model()"
   ]
  },
  {
   "cell_type": "code",
   "execution_count": 2,
   "id": "e580737d",
   "metadata": {},
   "outputs": [
    {
     "name": "stdout",
     "output_type": "stream",
     "text": [
      "['emma', 'olivia', 'ava', 'isabella', 'sophia', 'charlotte', 'mia', 'amelia']\n",
      "Number of Words:  32033\n"
     ]
    }
   ],
   "source": [
    "words = open('names.txt', 'r').read().splitlines()\n",
    "print(words[:8])\n",
    "print(\"Number of Words: \", len(words))"
   ]
  },
  {
   "cell_type": "markdown",
   "id": "899f0874",
   "metadata": {},
   "source": [
    "## 🔤 Character Vocabulary Setup\n",
    "Creating the character-to-integer mappings that will serve as our model's vocabulary.\n",
    "\n",
    "**Components:**\n",
    "- `chars`: Sorted list of unique characters from our dataset\n",
    "- `stoi`: String-to-integer mapping (encoding)  \n",
    "- `itos`: Integer-to-string mapping (decoding)\n",
    "- Special `.` token for start/end of sequences"
   ]
  },
  {
   "cell_type": "code",
   "execution_count": 3,
   "id": "d38f6ef3",
   "metadata": {},
   "outputs": [],
   "source": [
    "# character list\n",
    "chars = sorted(list(set(''.join(words))))\n",
    "chars.insert(0, '.') # special starter/terminator character\n",
    "\n",
    "# string to integer\n",
    "stoi = {s: i for i, s in enumerate(chars)}\n",
    "\n",
    "# integer to string\n",
    "itos = {i: s for s, i in stoi.items()}"
   ]
  },
  {
   "cell_type": "markdown",
   "id": "c0190269",
   "metadata": {},
   "source": [
    "## 🏗️ Dataset Building Function\n",
    "Creating training examples from our name dataset using a sliding window approach.\n",
    "\n",
    "**Function Logic:**\n",
    "1. **Context Window**: Uses `block_size` previous characters to predict the next\n",
    "2. **Sliding Window**: Moves through each name character by character\n",
    "3. **Tensor Conversion**: Converts lists to PyTorch tensors for training\n",
    "\n",
    "**Parameters:**\n",
    "- `words`: List of names to process\n",
    "- `block_size`: Size of context window (default: 3 characters)"
   ]
  },
  {
   "cell_type": "code",
   "execution_count": 4,
   "id": "8e796e3b",
   "metadata": {},
   "outputs": [],
   "source": [
    "block_size = 3\n",
    "\n",
    "def build_dataset(words):\n",
    "\n",
    "    X, Y = [], []\n",
    "\n",
    "    for w in words:\n",
    "        context = [0] * block_size\n",
    "\n",
    "        for ch in w + '.':\n",
    "            \n",
    "            X.append(context)\n",
    "            ix = stoi[ch]\n",
    "            Y.append(ix)\n",
    "            context = context[1:] + [ix]\n",
    "\n",
    "    X = torch.tensor(X)\n",
    "    Y = torch.tensor(Y)\n",
    "    return X, Y"
   ]
  },
  {
   "cell_type": "code",
   "execution_count": 5,
   "id": "45981090",
   "metadata": {},
   "outputs": [
    {
     "name": "stdout",
     "output_type": "stream",
     "text": [
      "[., ., .] ⇨ [m]\n",
      "[0, 0, 0] ⇨ [13]\n",
      "\n",
      "[., ., m] ⇨ [.]\n",
      "[0, 0, 13] ⇨ [0]\n",
      "\n",
      "[., ., .] ⇨ [a]\n",
      "[0, 0, 0] ⇨ [1]\n",
      "\n",
      "[., ., a] ⇨ [.]\n",
      "[0, 0, 1] ⇨ [0]\n",
      "\n",
      "[., ., .] ⇨ [r]\n",
      "[0, 0, 0] ⇨ [18]\n",
      "\n",
      "[., ., r] ⇨ [.]\n",
      "[0, 0, 18] ⇨ [0]\n",
      "\n",
      "[., ., .] ⇨ [i]\n",
      "[0, 0, 0] ⇨ [9]\n",
      "\n",
      "[., ., i] ⇨ [.]\n",
      "[0, 0, 9] ⇨ [0]\n",
      "\n",
      "[., ., .] ⇨ [a]\n",
      "[0, 0, 0] ⇨ [1]\n",
      "\n",
      "[., ., a] ⇨ [.]\n",
      "[0, 0, 1] ⇨ [0]\n",
      "\n",
      "[., ., .] ⇨ [n]\n",
      "[0, 0, 0] ⇨ [14]\n",
      "\n",
      "[., ., n] ⇨ [.]\n",
      "[0, 0, 14] ⇨ [0]\n",
      "\n",
      "[., ., .] ⇨ [a]\n",
      "[0, 0, 0] ⇨ [1]\n",
      "\n",
      "[., ., a] ⇨ [.]\n",
      "[0, 0, 1] ⇨ [0]\n",
      "\n"
     ]
    }
   ],
   "source": [
    "sampleX, sampleY = build_dataset('mariana') # sample with 'james'\n",
    "\n",
    "for x, y in zip(sampleX, sampleY):\n",
    "    print(f\"[{itos[x[0].item()]}, {itos[x[1].item()]}, {itos[x[2].item()]}] ⇨ [{itos[y.item()]}]\")\n",
    "    print(f\"{x.tolist()} ⇨ [{y.item()}]\\n\")"
   ]
  },
  {
   "cell_type": "markdown",
   "id": "2a2e34c3",
   "metadata": {},
   "source": [
    "## 📊 Train/Validation/Test Split\n",
    "Dividing our dataset into three parts for proper machine learning workflow.\n",
    "\n",
    "**Split Configuration:**\n",
    "- 🏋️ **Training Set**: 80% of data - Used to train the model\n",
    "- 🔍 **Development Set**: 10% of data - Used for hyperparameter tuning  \n",
    "- 🧪 **Test Set**: 10% of data - Final evaluation of model performance\n",
    "\n",
    "> **Note:** We shuffle the dataset first to ensure random distribution across splits."
   ]
  },
  {
   "cell_type": "code",
   "execution_count": 6,
   "id": "d51a86a2",
   "metadata": {},
   "outputs": [],
   "source": [
    "import random\n",
    "random.seed(42)\n",
    "random.shuffle(words)\n",
    "n1 = int(len(words) * 0.8)\n",
    "n2 = int(len(words) * 0.9)\n",
    "\n",
    "Xtr, Ytr    = build_dataset(words[:n1])         # Training Set: 80%\n",
    "Xdev, Ydev  = build_dataset(words[n1:n2])       # Development Set: 10%\n",
    "Xte, Yte    = build_dataset(words[n2:])         # Testing Set: 10%"
   ]
  },
  {
   "cell_type": "code",
   "execution_count": 7,
   "id": "a87daccc",
   "metadata": {},
   "outputs": [
    {
     "name": "stdout",
     "output_type": "stream",
     "text": [
      "torch.Size([182625, 3]) torch.Size([182625])\n",
      "torch.Size([22655, 3]) torch.Size([22655])\n",
      "torch.Size([22866, 3]) torch.Size([22866])\n"
     ]
    }
   ],
   "source": [
    "print(Xtr.shape, Ytr.shape)\n",
    "print(Xdev.shape, Ydev.shape)\n",
    "print(Xte.shape, Yte.shape)"
   ]
  },
  {
   "cell_type": "code",
   "execution_count": 8,
   "id": "a081d3da",
   "metadata": {},
   "outputs": [],
   "source": [
    "# MLP Revisited\n",
    "vocab_size = len(chars)\n",
    "n_embd = 10 # dimensionality of the character embedding vectors\n",
    "n_hidden = 200 # number of neurons in the hidden layer of the MLP\n",
    "\n",
    "g = torch.Generator().manual_seed(2147483647)\n",
    "C = torch.randn((vocab_size, n_embd),                   generator=g)\n",
    "W1 = torch.randn((n_embd * block_size, n_hidden),       generator=g)\n",
    "b1 = torch.randn((n_hidden),                            generator=g)\n",
    "W2 = torch.randn((n_hidden, vocab_size),                generator=g)\n",
    "b2 = torch.randn((vocab_size))\n",
    "\n",
    "parameters = [C, W1, b1, W2, b2]"
   ]
  },
  {
   "cell_type": "markdown",
   "id": "f3ea363c",
   "metadata": {},
   "source": [
    "## 🧠 Neural Network Architecture Setup\n",
    "Building our Multi-Layer Perceptron (MLP) with embedding layers for character-level language modeling.\n",
    "\n",
    "**Architecture Components:**\n",
    "- 🎯 **Embedding Layer**: `C` - Maps characters to dense vector representations\n",
    "- 🔗 **Hidden Layer**: `W1`, `b1` - First transformation with 200 neurons\n",
    "- 📊 **Output Layer**: `W2`, `b2` - Final prediction layer mapping to vocabulary\n",
    "\n",
    "**Hyperparameters:**\n",
    "- `vocab_size`: Total number of unique characters in our vocabulary\n",
    "- `n_embd`: Dimensionality of character embeddings (10D)\n",
    "- `n_hidden`: Number of neurons in hidden layer (200)\n",
    "- `block_size`: Context window size (3 characters)"
   ]
  },
  {
   "cell_type": "code",
   "execution_count": 9,
   "id": "ceaef334",
   "metadata": {},
   "outputs": [],
   "source": [
    "# set parameters for back propagation\n",
    "for p in parameters:\n",
    "    p.requires_grad = True"
   ]
  },
  {
   "cell_type": "markdown",
   "id": "09930add",
   "metadata": {},
   "source": [
    "## ⚙️ Parameter Configuration\n",
    "Enabling gradient computation for all model parameters to allow backpropagation."
   ]
  },
  {
   "cell_type": "code",
   "execution_count": 10,
   "id": "08d1eb7f",
   "metadata": {},
   "outputs": [
    {
     "name": "stdout",
     "output_type": "stream",
     "text": [
      "Total Parameters:  11897\n"
     ]
    }
   ],
   "source": [
    "# get sum of parameters\n",
    "print(\"Total Parameters: \", sum(p.nelement()for p in parameters))"
   ]
  },
  {
   "cell_type": "markdown",
   "id": "be341138",
   "metadata": {},
   "source": [
    "### 📈 Model Size Analysis\n",
    "Calculating the total number of trainable parameters in our neural network."
   ]
  },
  {
   "cell_type": "code",
   "execution_count": 11,
   "id": "628b1fa2",
   "metadata": {},
   "outputs": [
    {
     "name": "stdout",
     "output_type": "stream",
     "text": [
      "      0/ 200000: 25.8415\n",
      "  10000/ 200000: 2.5236\n",
      "  20000/ 200000: 2.2904\n",
      "  30000/ 200000: 2.5579\n",
      "  40000/ 200000: 2.4285\n",
      "  50000/ 200000: 2.0263\n",
      "  60000/ 200000: 2.4158\n",
      "  70000/ 200000: 1.8715\n",
      "  80000/ 200000: 2.4220\n",
      "  90000/ 200000: 2.2402\n",
      " 100000/ 200000: 2.1856\n",
      " 110000/ 200000: 2.0450\n",
      " 120000/ 200000: 2.0049\n",
      " 130000/ 200000: 2.1956\n",
      " 140000/ 200000: 1.8120\n",
      " 150000/ 200000: 2.3351\n",
      " 160000/ 200000: 2.2651\n",
      " 170000/ 200000: 1.8930\n",
      " 180000/ 200000: 1.7043\n",
      " 190000/ 200000: 2.2962\n"
     ]
    }
   ],
   "source": [
    "# training the neural net\n",
    "max_steps = 200000 # number training epochs\n",
    "batch_size = 32 # number of samples processed per training epoch\n",
    "lossi = []\n",
    "\n",
    "n_total_samples = Xtr.shape[0]\n",
    "\n",
    "for i in range(max_steps):\n",
    "\n",
    "    # random sampling from dataset\n",
    "    ix = torch.randint(0, n_total_samples, (batch_size, ), generator=g)\n",
    "    Xb, Yb = Xtr[ix], Ytr[ix] # batch X, Y\n",
    "\n",
    "    # forward pass\n",
    "    emb = C[Xb] # embed characters into vectors\n",
    "    embcat = emb.view(emb.shape[0], -1) # concatenate the vectors\n",
    "    hpreact = embcat @ W1 + b1 # hidden layer pre-activation\n",
    "    h = torch.tanh(hpreact) # hidden layer\n",
    "    logits = h @ W2 + b2 # output later\n",
    "    loss = F.cross_entropy(logits, Yb) # loss function\n",
    "\n",
    "    # backwards pass\n",
    "    for p in parameters:\n",
    "        p.grad = None\n",
    "    loss.backward()\n",
    "\n",
    "    # update\n",
    "    learning_rate = 0.1 if i < 100000 else 0.01 # step learning rate decay\n",
    "    for p in parameters:\n",
    "        p.data += -learning_rate * p.grad\n",
    "\n",
    "    # track stats\n",
    "    if i % 10000 == 0: # print every 10000 steps\n",
    "        print(f'{i:7d}/{max_steps:7d}: {loss.item():.4f}')\n",
    "    lossi.append(loss.log10().item())"
   ]
  },
  {
   "cell_type": "markdown",
   "id": "892e17ff",
   "metadata": {},
   "source": [
    "## 🏃‍♂️ Training Loop\n",
    "Main training process using stochastic gradient descent with mini-batches.\n",
    "\n",
    "**Training Configuration:**\n",
    "- 📊 **Max Steps**: 200,000 training iterations\n",
    "- 🎯 **Batch Size**: 32 samples per mini-batch\n",
    "- 📉 **Learning Rate**: 0.1 → 0.01 (step decay at 100k iterations)\n",
    "- 🔄 **Optimization**: SGD with gradient descent\n",
    "\n",
    "**Forward Pass:**\n",
    "1. **Embedding**: Convert character indices to vectors\n",
    "2. **Concatenation**: Flatten context window embeddings  \n",
    "3. **Hidden Layer**: Apply linear transformation + tanh activation\n",
    "4. **Output**: Generate logits for next character prediction\n",
    "5. **Loss**: Cross-entropy between predictions and targets\n",
    "\n",
    "**Backward Pass:**\n",
    "1. **Zero Gradients**: Clear previous gradients\n",
    "2. **Backpropagate**: Compute gradients via automatic differentiation\n",
    "3. **Update**: Adjust parameters using computed gradients"
   ]
  },
  {
   "cell_type": "code",
   "execution_count": 12,
   "id": "a9d12ccc",
   "metadata": {},
   "outputs": [
    {
     "data": {
      "text/plain": [
       "[<matplotlib.lines.Line2D at 0x24decf01450>]"
      ]
     },
     "execution_count": 12,
     "metadata": {},
     "output_type": "execute_result"
    },
    {
     "data": {
      "image/png": "[encoded data removed]",
      "text/plain": [
       "<Figure size 640x480 with 1 Axes>"
      ]
     },
     "metadata": {},
     "output_type": "display_data"
    }
   ],
   "source": [
    "plt.plot(lossi)"
   ]
  },
  {
   "cell_type": "markdown",
   "id": "d6ce4694",
   "metadata": {},
   "source": [
    "### 📊 Training Loss Visualization\n",
    "Plotting the training loss curve to monitor learning progress over iterations."
   ]
  },
  {
   "cell_type": "code",
   "execution_count": 13,
   "id": "ba6737f2",
   "metadata": {},
   "outputs": [
    {
     "name": "stdout",
     "output_type": "stream",
     "text": [
      "train 2.119837760925293\n",
      "val 2.165559768676758\n"
     ]
    }
   ],
   "source": [
    "# evaluating the model\n",
    "\n",
    "@torch.no_grad # disable gradient tracking\n",
    "def split_loss(split):\n",
    "    x, y = {\n",
    "        'train': (Xtr, Ytr),\n",
    "        'val': (Xdev, Ydev),\n",
    "        'test': (Xte, Yte),\n",
    "    }[split]\n",
    "\n",
    "    emb = C[x] # (N, block_size, n_embd)\n",
    "    embcat = emb.view(emb.shape[0], -1)\n",
    "    h = torch.tanh(embcat @ W1 + b1) # )(N, n_hidden)\n",
    "    logits = h @ W2 + b2\n",
    "    loss = F.cross_entropy(logits, y)\n",
    "    print(split, loss.item())\n",
    "\n",
    "split_loss('train')\n",
    "split_loss('val')"
   ]
  },
  {
   "cell_type": "markdown",
   "id": "6d462d49",
   "metadata": {},
   "source": [
    "## 🔍 Model Evaluation\n",
    "Assessing model performance across training, validation, and test sets.\n",
    "\n",
    "**Evaluation Strategy:**\n",
    "- 🚫 **No Gradients**: Disable gradient computation for efficiency\n",
    "- 📊 **Cross-Entropy Loss**: Measure prediction accuracy on each split\n",
    "- 🎯 **Overfitting Check**: Compare train vs validation performance\n",
    "\n",
    "> **Key Insight:** If training loss << validation loss, the model is overfitting!"
   ]
  },
  {
   "cell_type": "code",
   "execution_count": 14,
   "id": "3a240311",
   "metadata": {},
   "outputs": [
    {
     "name": "stdout",
     "output_type": "stream",
     "text": [
      "carmah.\n",
      "amorie.\n",
      "khy.\n",
      "mili.\n",
      "taty.\n",
      "sacarsae.\n",
      "mahnen.\n",
      "amerynt.\n",
      "kaeli.\n",
      "nellara.\n",
      "chaiir.\n",
      "kaleigh.\n",
      "ham.\n",
      "jorn.\n",
      "quinn.\n",
      "salin.\n",
      "alianni.\n",
      "wazelo.\n",
      "dearyni.\n",
      "jaxe.\n"
     ]
    }
   ],
   "source": [
    "# sampling from the model\n",
    "g = torch.Generator().manual_seed(2147483647 + 10)\n",
    "\n",
    "for _ in range(20):\n",
    "\n",
    "    out = []\n",
    "    context = [0] * block_size\n",
    "\n",
    "    while True:\n",
    "        # forward pass\n",
    "        emb = C[torch.tensor([context])]\n",
    "        h = torch.tanh(emb.view(1, -1) @ W1 + b1)\n",
    "        logits = h @ W2 + b2\n",
    "        probs = F.softmax(logits, dim=1)\n",
    "\n",
    "        #sample from distribution\n",
    "        ix = torch.multinomial(probs, num_samples=1, generator=g).item()\n",
    "\n",
    "        # shift context window\n",
    "        context = context[1:] + [ix]\n",
    "        out.append(ix)\n",
    "\n",
    "        # if we get special . token, break\n",
    "        if ix == 0:\n",
    "            break\n",
    "\n",
    "    print(''.join(itos[i] for i in out))"
   ]
  },
  {
   "cell_type": "markdown",
   "id": "76479cc8",
   "metadata": {},
   "source": [
    "## 🎲 Name Generation\n",
    "Sampling new names from our trained model using probabilistic generation.\n",
    "\n",
    "**Generation Process:**\n",
    "1. **Initialize Context**: Start with empty context window\n",
    "2. **Forward Pass**: Get probability distribution over next characters\n",
    "3. **Sample**: Randomly select next character based on probabilities\n",
    "4. **Update Context**: Shift window and add predicted character\n",
    "5. **Repeat**: Continue until we generate the end token (`.`)\n",
    "\n",
    "**Sampling Strategy:**\n",
    "- 🎯 **Multinomial Sampling**: Probabilistic character selection\n",
    "- 🔄 **Autoregressive**: Use previous predictions as input for next prediction\n",
    "- 🛑 **Stop Condition**: Generation ends when model outputs termination token\n",
    "\n",
    "> **Result:** Creative new names that follow the patterns learned from training data!"
   ]
  },
  {
   "cell_type": "markdown",
   "id": "ddeb1082",
   "metadata": {},
   "source": [
    "# Optimizing the Initialization\n",
    "### Obvious Problem\n",
    "The loss for the first round is really high, about 27, which doesn't make sense because from setting up the problem, it's a 27 letter predictor with only a few being likely for beginning a name. This means the initial setup isn't very good."
   ]
  },
  {
   "cell_type": "code",
   "execution_count": 15,
   "id": "3244b179",
   "metadata": {},
   "outputs": [
    {
     "data": {
      "text/plain": [
       "tensor(3.2958)"
      ]
     },
     "execution_count": 15,
     "metadata": {},
     "output_type": "execute_result"
    }
   ],
   "source": [
    "# should be around 3 loss\n",
    "-torch.tensor(1/27.0).log()"
   ]
  },
  {
   "cell_type": "code",
   "execution_count": 9,
   "id": "631746d8",
   "metadata": {},
   "outputs": [],
   "source": [
    "import torch\n",
    "import torch.nn.functional as F\n",
    "import matplotlib.pyplot as plt\n",
    "%matplotlib inline"
   ]
  },
  {
   "cell_type": "code",
   "execution_count": 10,
   "id": "54fe9070",
   "metadata": {},
   "outputs": [
    {
     "name": "stdout",
     "output_type": "stream",
     "text": [
      "['emma', 'olivia', 'ava', 'isabella', 'sophia', 'charlotte', 'mia', 'amelia']\n",
      "Number of Words:  32033\n"
     ]
    }
   ],
   "source": [
    "words = open('names.txt', 'r').read().splitlines()\n",
    "print(words[:8])\n",
    "print(\"Number of Words: \", len(words))"
   ]
  },
  {
   "cell_type": "code",
   "execution_count": 11,
   "id": "6cbf97e4",
   "metadata": {},
   "outputs": [],
   "source": [
    "# character list\n",
    "chars = sorted(list(set(''.join(words))))\n",
    "chars.insert(0, '.') # special starter/terminator character\n",
    "\n",
    "# string to integer\n",
    "stoi = {s: i for i, s in enumerate(chars)}\n",
    "\n",
    "# integer to string\n",
    "itos = {i: s for s, i in stoi.items()}"
   ]
  },
  {
   "cell_type": "code",
   "execution_count": 12,
   "id": "dcfe1ca5",
   "metadata": {},
   "outputs": [],
   "source": [
    "block_size = 3\n",
    "\n",
    "def build_dataset(words):\n",
    "\n",
    "    X, Y = [], []\n",
    "\n",
    "    for w in words:\n",
    "        context = [0] * block_size\n",
    "\n",
    "        for ch in w + '.':\n",
    "            \n",
    "            X.append(context)\n",
    "            ix = stoi[ch]\n",
    "            Y.append(ix)\n",
    "            context = context[1:] + [ix]\n",
    "\n",
    "    X = torch.tensor(X)\n",
    "    Y = torch.tensor(Y)\n",
    "    return X, Y"
   ]
  },
  {
   "cell_type": "code",
   "execution_count": 29,
   "id": "b3770aba",
   "metadata": {},
   "outputs": [],
   "source": [
    "import random\n",
    "random.seed(42)\n",
    "random.shuffle(words)\n",
    "n1 = int(len(words) * 0.8)\n",
    "n2 = int(len(words) * 0.9)\n",
    "\n",
    "Xtr, Ytr    = build_dataset(words[:n1])         # Training Set: 80%\n",
    "Xdev, Ydev  = build_dataset(words[n1:n2])       # Development Set: 10%\n",
    "Xte, Yte    = build_dataset(words[n2:])         # Testing Set: 10%"
   ]
  },
  {
   "cell_type": "markdown",
   "id": "388c5c39",
   "metadata": {},
   "source": [
    "We can improve the initialization\n",
    "-  by setting `b2` to `0`, multiplying by `0`.\n",
    "-  by setting `W2` to a smaller initial amount, multiplying by `0.1`.\n",
    "\n",
    "https://youtu.be/P6sfmUTpUmc?si=0j-iEYLSP-769_fT&t=786\n",
    "\n",
    "Another problem is how the tanh function produces an incredible amount of 1.0 values."
   ]
  },
  {
   "cell_type": "code",
   "execution_count": 30,
   "id": "1830503e",
   "metadata": {},
   "outputs": [],
   "source": [
    "# MLP Revisited\n",
    "vocab_size = len(chars)\n",
    "n_embd = 10 # dimensionality of the character embedding vectors\n",
    "n_hidden = 200 # number of neurons in the hidden layer of the MLP\n",
    "\n",
    "g = torch.Generator().manual_seed(2147483647)\n",
    "C = torch.randn((vocab_size, n_embd),                   generator=g)\n",
    "W1 = torch.randn((n_embd * block_size, n_hidden),       generator=g)\n",
    "b1 = torch.randn((n_hidden),                            generator=g)\n",
    "W2 = torch.randn((n_hidden, vocab_size),                generator=g) * 0.01\n",
    "b2 = torch.randn((vocab_size),                          generator=g) * 0\n",
    "\n",
    "parameters = [C, W1, b1, W2, b2]\n",
    "\n",
    "# set parameters for back propagation\n",
    "for p in parameters:\n",
    "    p.requires_grad = True"
   ]
  },
  {
   "cell_type": "code",
   "execution_count": 31,
   "id": "e562e7fc",
   "metadata": {},
   "outputs": [
    {
     "name": "stdout",
     "output_type": "stream",
     "text": [
      "      0/ 200000: 3.3148\n",
      "  10000/ 200000: 2.6505\n",
      "  20000/ 200000: 2.4705\n",
      "  30000/ 200000: 2.0266\n",
      "  40000/ 200000: 2.1797\n",
      "  50000/ 200000: 2.4072\n",
      "  60000/ 200000: 2.2316\n",
      "  70000/ 200000: 2.0701\n",
      "  80000/ 200000: 2.0010\n",
      "  90000/ 200000: 2.0439\n",
      " 100000/ 200000: 2.4564\n",
      " 110000/ 200000: 2.2124\n",
      " 120000/ 200000: 2.1843\n",
      " 130000/ 200000: 2.2414\n",
      " 140000/ 200000: 2.1447\n",
      " 150000/ 200000: 2.2837\n",
      " 160000/ 200000: 2.0286\n",
      " 170000/ 200000: 2.0146\n",
      " 180000/ 200000: 2.2179\n",
      " 190000/ 200000: 2.0372\n"
     ]
    }
   ],
   "source": [
    "# training the neural net\n",
    "max_steps = 200000 # number training epochs\n",
    "batch_size = 32 # number of samples processed per training epoch\n",
    "lossi = []\n",
    "\n",
    "n_total_samples = Xtr.shape[0]\n",
    "\n",
    "for i in range(max_steps):\n",
    "\n",
    "    # random sampling from dataset\n",
    "    ix = torch.randint(0, n_total_samples, (batch_size, ), generator=g)\n",
    "    Xb, Yb = Xtr[ix], Ytr[ix] # batch X, Y\n",
    "\n",
    "    # forward pass\n",
    "    emb = C[Xb] # embed characters into vectors\n",
    "    embcat = emb.view(emb.shape[0], -1) # concatenate the vectors\n",
    "    hpreact = embcat @ W1 + b1 # hidden layer pre-activation\n",
    "    h = torch.tanh(hpreact) # hidden layer\n",
    "    logits = h @ W2 + b2 # output later\n",
    "    loss = F.cross_entropy(logits, Yb) # loss function\n",
    "\n",
    "    # backwards pass\n",
    "    for p in parameters:\n",
    "        p.grad = None\n",
    "    loss.backward()\n",
    "\n",
    "    # update\n",
    "    learning_rate = 0.1 if i < 100000 else 0.01 # step learning rate decay\n",
    "    for p in parameters:\n",
    "        p.data += -learning_rate * p.grad\n",
    "\n",
    "    # track stats\n",
    "    if i % 10000 == 0: # print every 10000 steps\n",
    "        print(f'{i:7d}/{max_steps:7d}: {loss.item():.4f}')\n",
    "    lossi.append(loss.log10().item()) # Fixed indentation - now inside the loop"
   ]
  },
  {
   "cell_type": "markdown",
   "id": "e673f5a0",
   "metadata": {},
   "source": [
    "Here you can see how many of the h values are set to 1."
   ]
  },
  {
   "cell_type": "code",
   "execution_count": 33,
   "id": "64d0889c",
   "metadata": {},
   "outputs": [
    {
     "data": {
      "text/plain": [
       "(array([2217.,  139.,   94.,   79.,   52.,  100.,   35.,   16.,   30.,\n",
       "          33.,   27.,   19.,   18.,   14.,   15.,   33.,   28.,    7.,\n",
       "          35.,   13.,   12.,   22.,   26.,   20.,   24.,   25.,    8.,\n",
       "          15.,   11.,   33.,   20.,   11.,   13.,   12.,   15.,   24.,\n",
       "          22.,   22.,   29.,   18.,   30.,   26.,   34.,   35.,   74.,\n",
       "          65.,   82.,   56.,  138., 2474.]),\n",
       " array([-1.  , -0.96, -0.92, -0.88, -0.84, -0.8 , -0.76, -0.72, -0.68,\n",
       "        -0.64, -0.6 , -0.56, -0.52, -0.48, -0.44, -0.4 , -0.36, -0.32,\n",
       "        -0.28, -0.24, -0.2 , -0.16, -0.12, -0.08, -0.04,  0.  ,  0.04,\n",
       "         0.08,  0.12,  0.16,  0.2 ,  0.24,  0.28,  0.32,  0.36,  0.4 ,\n",
       "         0.44,  0.48,  0.52,  0.56,  0.6 ,  0.64,  0.68,  0.72,  0.76,\n",
       "         0.8 ,  0.84,  0.88,  0.92,  0.96,  1.  ]),\n",
       " <BarContainer object of 50 artists>)"
      ]
     },
     "execution_count": 33,
     "metadata": {},
     "output_type": "execute_result"
    },
    {
     "data": {
      "image/png": "[encoded data removed]",
      "text/plain": [
       "<Figure size 640x480 with 1 Axes>"
      ]
     },
     "metadata": {},
     "output_type": "display_data"
    }
   ],
   "source": [
    "plt.hist(h.view(-1).tolist(), 50)"
   ]
  },
  {
   "cell_type": "code",
   "execution_count": 34,
   "id": "8c8933cf",
   "metadata": {},
   "outputs": [
    {
     "name": "stdout",
     "output_type": "stream",
     "text": [
      "Model saved to optimized.pt\n"
     ]
    }
   ],
   "source": [
    "save_model(parameters, filename='optimized.pt')"
   ]
  },
  {
   "cell_type": "code",
   "execution_count": 28,
   "id": "9f560aca",
   "metadata": {},
   "outputs": [
    {
     "data": {
      "text/plain": [
       "[<matplotlib.lines.Line2D at 0x1c6e7fd8550>]"
      ]
     },
     "execution_count": 28,
     "metadata": {},
     "output_type": "execute_result"
    },
    {
     "data": {
      "image/png": "[encoded data removed]",
      "text/plain": [
       "<Figure size 640x480 with 1 Axes>"
      ]
     },
     "metadata": {},
     "output_type": "display_data"
    }
   ],
   "source": [
    "plt.plot(lossi)"
   ]
  },
  {
   "cell_type": "code",
   "execution_count": 18,
   "id": "7fb8b610",
   "metadata": {},
   "outputs": [
    {
     "name": "stdout",
     "output_type": "stream",
     "text": [
      "train 2.069589138031006\n",
      "val 2.131074905395508\n"
     ]
    }
   ],
   "source": [
    "# evaluating the model\n",
    "\n",
    "@torch.no_grad # disable gradient tracking\n",
    "def split_loss(split):\n",
    "    x, y = {\n",
    "        'train': (Xtr, Ytr),\n",
    "        'val': (Xdev, Ydev),\n",
    "        'test': (Xte, Yte),\n",
    "    }[split]\n",
    "\n",
    "    emb = C[x] # (N, block_size, n_embd)\n",
    "    embcat = emb.view(emb.shape[0], -1)\n",
    "    h = torch.tanh(embcat @ W1 + b1) # )(N, n_hidden)\n",
    "    logits = h @ W2 + b2\n",
    "    loss = F.cross_entropy(logits, y)\n",
    "    print(split, loss.item())\n",
    "\n",
    "split_loss('train')\n",
    "split_loss('val')"
   ]
  },
  {
   "cell_type": "code",
   "execution_count": 19,
   "id": "29e84c5d",
   "metadata": {},
   "outputs": [
    {
     "name": "stdout",
     "output_type": "stream",
     "text": [
      "carman.\n",
      "amille.\n",
      "khyrmyn.\n",
      "reet.\n",
      "khalayane.\n",
      "mahnen.\n",
      "deliah.\n",
      "jareei.\n",
      "nellara.\n",
      "chaiivon.\n",
      "legen.\n",
      "ham.\n",
      "jorn.\n",
      "quintin.\n",
      "lilea.\n",
      "jadiquinterri.\n",
      "jarysia.\n",
      "kael.\n",
      "dustine.\n",
      "deciia.\n"
     ]
    }
   ],
   "source": [
    "# sampling from the model\n",
    "g = torch.Generator().manual_seed(2147483647 + 10)\n",
    "\n",
    "for _ in range(20):\n",
    "\n",
    "    out = []\n",
    "    context = [0] * block_size\n",
    "\n",
    "    while True:\n",
    "        # forward pass\n",
    "        emb = C[torch.tensor([context])]\n",
    "        h = torch.tanh(emb.view(1, -1) @ W1 + b1)\n",
    "        logits = h @ W2 + b2\n",
    "        probs = F.softmax(logits, dim=1)\n",
    "\n",
    "        #sample from distribution\n",
    "        ix = torch.multinomial(probs, num_samples=1, generator=g).item()\n",
    "\n",
    "        # shift context window\n",
    "        context = context[1:] + [ix]\n",
    "        out.append(ix)\n",
    "\n",
    "        # if we get special . token, break\n",
    "        if ix == 0:\n",
    "            break\n",
    "\n",
    "    print(''.join(itos[i] for i in out))"
   ]
  },
  {
   "cell_type": "markdown",
   "id": "8cad19b5",
   "metadata": {},
   "source": [
    "https://youtu.be/P6sfmUTpUmc?si=0j-iEYLSP-769_fT&t=786"
   ]
  },
  {
   "cell_type": "code",
   "execution_count": null,
   "id": "5cbbc8a6",
   "metadata": {},
   "outputs": [],
   "source": [
    "load_model('optimized.pt')"
   ]
  }
 ],
 "metadata": {
  "kernelspec": {
   "display_name": "Python 3",
   "language": "python",
   "name": "python3"
  },
  "language_info": {
   "codemirror_mode": {
    "name": "ipython",
    "version": 3
   },
   "file_extension": ".py",
   "mimetype": "text/x-python",
   "name": "python",
   "nbconvert_exporter": "python",
   "pygments_lexer": "ipython3",
   "version": "3.13.3"
  }
 },
 "nbformat": 4,
 "nbformat_minor": 5
}
