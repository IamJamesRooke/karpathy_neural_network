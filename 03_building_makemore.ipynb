{
 "cells": [
  {
   "cell_type": "markdown",
   "id": "8b42243f",
   "metadata": {},
   "source": [
    "# Building Makemore Part II: MLP\n",
    "https://www.youtube.com/watch?v=TCH_1BHY58I"
   ]
  },
  {
   "cell_type": "code",
   "execution_count": 1,
   "id": "463af95f",
   "metadata": {},
   "outputs": [],
   "source": [
    "import torch\n",
    "import torch.nn.functional as F\n",
    "import matplotlib.pyplot as plt\n",
    "%matplotlib inline"
   ]
  },
  {
   "cell_type": "code",
   "execution_count": 3,
   "id": "97e5c17c",
   "metadata": {},
   "outputs": [
    {
     "data": {
      "text/plain": [
       "['emma', 'olivia', 'ava', 'isabella', 'sophia', 'charlotte', 'mia', 'amelia']"
      ]
     },
     "execution_count": 3,
     "metadata": {},
     "output_type": "execute_result"
    }
   ],
   "source": [
    "# read in all words\n",
    "words = open(\"names.txt\", 'r').read().splitlines()\n",
    "words[:8]"
   ]
  },
  {
   "cell_type": "code",
   "execution_count": 4,
   "id": "46955918",
   "metadata": {},
   "outputs": [
    {
     "data": {
      "text/plain": [
       "32033"
      ]
     },
     "execution_count": 4,
     "metadata": {},
     "output_type": "execute_result"
    }
   ],
   "source": [
    "len(words)"
   ]
  },
  {
   "cell_type": "code",
   "execution_count": 18,
   "id": "7b01ab90",
   "metadata": {},
   "outputs": [
    {
     "name": "stdout",
     "output_type": "stream",
     "text": [
      "{1: 'a', 2: 'b', 3: 'c', 4: 'd', 5: 'e', 6: 'f', 7: 'g', 8: 'h', 9: 'i', 10: 'j', 11: 'k', 12: 'l', 13: 'm', 14: 'n', 15: 'o', 16: 'p', 17: 'q', 18: 'r', 19: 's', 20: 't', 21: 'u', 22: 'v', 23: 'w', 24: 'x', 25: 'y', 26: 'z', 0: '.'}\n"
     ]
    }
   ],
   "source": [
    "# Build vocabulary of characters and mappings to/from integers\n",
    "chars = sorted(list(set(\"\".join(words))))\n",
    "stoi = {s: i+1 for i, s in enumerate(chars)}\n",
    "stoi['.'] = 0\n",
    "itos = {i: s for s, i in stoi.items()}\n",
    "print(itos)"
   ]
  },
  {
   "cell_type": "markdown",
   "id": "16792679",
   "metadata": {},
   "source": [
    "Build the Dataset"
   ]
  },
  {
   "cell_type": "code",
   "execution_count": 37,
   "id": "1e6e2077",
   "metadata": {},
   "outputs": [
    {
     "name": "stdout",
     "output_type": "stream",
     "text": [
      "\n",
      "emma\n",
      "... ⇨ e [0, 0, 0] ⇨ 5\n",
      "..e ⇨ m [0, 0, 5] ⇨ 13\n",
      ".em ⇨ m [0, 5, 13] ⇨ 13\n",
      "emm ⇨ a [5, 13, 13] ⇨ 1\n",
      "mma ⇨ . [13, 13, 1] ⇨ 0\n",
      "\n",
      "olivia\n",
      "... ⇨ o [0, 0, 0] ⇨ 15\n",
      "..o ⇨ l [0, 0, 15] ⇨ 12\n",
      ".ol ⇨ i [0, 15, 12] ⇨ 9\n",
      "oli ⇨ v [15, 12, 9] ⇨ 22\n",
      "liv ⇨ i [12, 9, 22] ⇨ 9\n",
      "ivi ⇨ a [9, 22, 9] ⇨ 1\n",
      "via ⇨ . [22, 9, 1] ⇨ 0\n",
      "\n",
      "ava\n",
      "... ⇨ a [0, 0, 0] ⇨ 1\n",
      "..a ⇨ v [0, 0, 1] ⇨ 22\n",
      ".av ⇨ a [0, 1, 22] ⇨ 1\n",
      "ava ⇨ . [1, 22, 1] ⇨ 0\n",
      "\n",
      "isabella\n",
      "... ⇨ i [0, 0, 0] ⇨ 9\n",
      "..i ⇨ s [0, 0, 9] ⇨ 19\n",
      ".is ⇨ a [0, 9, 19] ⇨ 1\n",
      "isa ⇨ b [9, 19, 1] ⇨ 2\n",
      "sab ⇨ e [19, 1, 2] ⇨ 5\n",
      "abe ⇨ l [1, 2, 5] ⇨ 12\n",
      "bel ⇨ l [2, 5, 12] ⇨ 12\n",
      "ell ⇨ a [5, 12, 12] ⇨ 1\n",
      "lla ⇨ . [12, 12, 1] ⇨ 0\n",
      "\n",
      "sophia\n",
      "... ⇨ s [0, 0, 0] ⇨ 19\n",
      "..s ⇨ o [0, 0, 19] ⇨ 15\n",
      ".so ⇨ p [0, 19, 15] ⇨ 16\n",
      "sop ⇨ h [19, 15, 16] ⇨ 8\n",
      "oph ⇨ i [15, 16, 8] ⇨ 9\n",
      "phi ⇨ a [16, 8, 9] ⇨ 1\n",
      "hia ⇨ . [8, 9, 1] ⇨ 0\n"
     ]
    }
   ],
   "source": [
    "# Building Dataset\n",
    "block_size = 3\n",
    "X, Y = [], []\n",
    "\n",
    "for w in words[:5]:\n",
    "\n",
    "    print(f\"\\n{w}\")\n",
    "    context = [0] * block_size\n",
    "    for ch in w + '.':\n",
    "        ix = stoi[ch]\n",
    "        X.append(context)\n",
    "        Y.append(ix)\n",
    "        print(\"\".join(itos[i] for i in context), '⇨', itos[ix], context, \"⇨\", ix,)\n",
    "        context = context[1:] + [ix]\n",
    "\n",
    "X = torch.tensor(X)\n",
    "Y = torch.tensor(Y)"
   ]
  },
  {
   "cell_type": "code",
   "execution_count": 26,
   "id": "8c825993",
   "metadata": {},
   "outputs": [
    {
     "data": {
      "text/plain": [
       "tensor([[ 0,  0,  0],\n",
       "        [ 0,  0,  5],\n",
       "        [ 0,  5, 13],\n",
       "        [ 5, 13, 13],\n",
       "        [13, 13,  1]])"
      ]
     },
     "execution_count": 26,
     "metadata": {},
     "output_type": "execute_result"
    }
   ],
   "source": [
    "X[:5]"
   ]
  },
  {
   "cell_type": "code",
   "execution_count": 28,
   "id": "37552ebc",
   "metadata": {},
   "outputs": [
    {
     "data": {
      "text/plain": [
       "tensor([ 5, 13, 13,  1,  0])"
      ]
     },
     "execution_count": 28,
     "metadata": {},
     "output_type": "execute_result"
    }
   ],
   "source": [
    "Y[:5]"
   ]
  },
  {
   "cell_type": "code",
   "execution_count": 29,
   "id": "653e7af0",
   "metadata": {},
   "outputs": [
    {
     "data": {
      "text/plain": [
       "(torch.Size([32, 3]), torch.int64, torch.Size([32]), torch.int64)"
      ]
     },
     "execution_count": 29,
     "metadata": {},
     "output_type": "execute_result"
    }
   ],
   "source": [
    "X.shape, X.dtype, Y.shape, Y.dtype"
   ]
  },
  {
   "cell_type": "markdown",
   "id": "c032f8e0",
   "metadata": {},
   "source": [
    "Creating the Lookup Table"
   ]
  },
  {
   "cell_type": "code",
   "execution_count": 38,
   "id": "d73f5e89",
   "metadata": {},
   "outputs": [
    {
     "data": {
      "text/plain": [
       "tensor([[ 0.3650, -0.3895],\n",
       "        [-0.9772, -1.4756],\n",
       "        [ 0.4431, -0.1886],\n",
       "        [-0.9892, -0.1806],\n",
       "        [ 0.1006, -0.7739],\n",
       "        [-0.4891, -0.5384],\n",
       "        [ 0.6448, -0.0225],\n",
       "        [ 0.5524,  0.4478],\n",
       "        [-0.2687, -1.4652],\n",
       "        [ 0.0409, -1.1418],\n",
       "        [ 0.9349, -0.3741],\n",
       "        [-1.4909, -0.8147],\n",
       "        [ 1.4948,  0.2520],\n",
       "        [ 0.9366,  1.9814],\n",
       "        [ 1.0121, -0.6123],\n",
       "        [-0.6807,  0.4954],\n",
       "        [ 0.6293, -0.3215],\n",
       "        [ 1.1528,  0.5102],\n",
       "        [ 1.0275,  0.2026],\n",
       "        [ 0.7935, -0.8536],\n",
       "        [-1.4935,  1.1331],\n",
       "        [-0.6322,  1.2386],\n",
       "        [-1.0048, -1.0912],\n",
       "        [ 1.6902,  0.3304],\n",
       "        [-1.5179, -1.2812],\n",
       "        [ 0.6197, -0.5310],\n",
       "        [ 0.7618,  0.4061]])"
      ]
     },
     "execution_count": 38,
     "metadata": {},
     "output_type": "execute_result"
    }
   ],
   "source": [
    "C = torch.randn((27, 2))\n",
    "C"
   ]
  },
  {
   "cell_type": "code",
   "execution_count": 39,
   "id": "a7b6ff6e",
   "metadata": {},
   "outputs": [
    {
     "data": {
      "text/plain": [
       "tensor([-0.4891, -0.5384])"
      ]
     },
     "execution_count": 39,
     "metadata": {},
     "output_type": "execute_result"
    }
   ],
   "source": [
    "C[5]"
   ]
  },
  {
   "cell_type": "code",
   "execution_count": 41,
   "id": "41e4e32f",
   "metadata": {},
   "outputs": [
    {
     "data": {
      "text/plain": [
       "tensor([0, 0, 0, 0, 0, 1, 0, 0, 0, 0, 0, 0, 0, 0, 0, 0, 0, 0, 0, 0, 0, 0, 0, 0,\n",
       "        0, 0, 0])"
      ]
     },
     "execution_count": 41,
     "metadata": {},
     "output_type": "execute_result"
    }
   ],
   "source": [
    "F.one_hot(torch.tensor(5), num_classes=27)"
   ]
  },
  {
   "cell_type": "code",
   "execution_count": 43,
   "id": "d8141d1e",
   "metadata": {},
   "outputs": [
    {
     "data": {
      "text/plain": [
       "tensor([-0.4891, -0.5384])"
      ]
     },
     "execution_count": 43,
     "metadata": {},
     "output_type": "execute_result"
    }
   ],
   "source": [
    "F.one_hot(torch.tensor(5), num_classes=27).float() @ C"
   ]
  },
  {
   "cell_type": "markdown",
   "id": "3e8dc435",
   "metadata": {},
   "source": [
    "https://youtu.be/TCH_1BHY58I?si=a4cpoBVyRsDQpdkn&t=761"
   ]
  },
  {
   "cell_type": "code",
   "execution_count": null,
   "id": "3b99e2a4",
   "metadata": {},
   "outputs": [],
   "source": []
  }
 ],
 "metadata": {
  "kernelspec": {
   "display_name": "Python 3",
   "language": "python",
   "name": "python3"
  },
  "language_info": {
   "codemirror_mode": {
    "name": "ipython",
    "version": 3
   },
   "file_extension": ".py",
   "mimetype": "text/x-python",
   "name": "python",
   "nbconvert_exporter": "python",
   "pygments_lexer": "ipython3",
   "version": "3.13.3"
  }
 },
 "nbformat": 4,
 "nbformat_minor": 5
}
