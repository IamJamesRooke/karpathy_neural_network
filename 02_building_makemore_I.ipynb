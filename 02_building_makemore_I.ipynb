{
 "cells": [
  {
   "cell_type": "markdown",
   "id": "4c95018c",
   "metadata": {},
   "source": [
    "https://www.youtube.com/watch?v=PaCmpygFfXo&list=PLAqhIrjkxbuWI23v9cThsA9GvCAUhRvKZ&index=2"
   ]
  }
 ],
 "metadata": {
  "language_info": {
   "name": "python"
  }
 },
 "nbformat": 4,
 "nbformat_minor": 5
}
