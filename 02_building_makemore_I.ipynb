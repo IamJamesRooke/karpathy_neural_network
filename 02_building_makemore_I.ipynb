{
 "cells": [
  {
   "cell_type": "markdown",
   "id": "4c95018c",
   "metadata": {},
   "source": [
    "https://www.youtube.com/watch?v=PaCmpygFfXo&list=PLAqhIrjkxbuWI23v9cThsA9GvCAUhRvKZ&index=2"
   ]
  },
  {
   "cell_type": "markdown",
   "id": "1319b6cc",
   "metadata": {},
   "source": [
    "\n",
    "# makemore"
   ]
  },
  {
   "cell_type": "markdown",
   "id": "7cdafc7b",
   "metadata": {},
   "source": [
    "makemore takes one text file as input, where each line is assumed to be one training thing, and generates more things like it. Under the hood, it is an autoregressive character-level language model, with a wide choice of models from bigrams all the way to a Transformer (exactly as seen in GPT). For example, we can feed it a database of names, and makemore will generate cool baby name ideas that all sound name-like, but are not already existing names. Or if we feed it a database of company names then we can generate new ideas for a name of a company. Or we can just feed it valid scrabble words and generate english-like babble.\n",
    "\n",
    "This is not meant to be too heavyweight library with a billion switches and knobs. It is one hackable file, and is mostly intended for educational purposes. [PyTorch](https://pytorch.org) is the only requirement.\n",
    "\n",
    "Current implementation follows a few key papers:\n",
    "\n",
    "- Bigram (one character predicts the next one with a lookup table of counts)\n",
    "- MLP, following [Bengio et al. 2003](https://www.jmlr.org/papers/volume3/bengio03a/bengio03a.pdf)\n",
    "- CNN, following [DeepMind WaveNet 2016](https://arxiv.org/abs/1609.03499) (in progress...)\n",
    "- RNN, following [Mikolov et al. 2010](https://www.fit.vutbr.cz/research/groups/speech/publi/2010/mikolov_interspeech2010_IS100722.pdf)\n",
    "- LSTM, following [Graves et al. 2014](https://arxiv.org/abs/1308.0850)\n",
    "- GRU, following [Kyunghyun Cho et al. 2014](https://arxiv.org/abs/1409.1259)\n",
    "- Transformer, following [Vaswani et al. 2017](https://arxiv.org/abs/1706.03762)\n",
    "\n",
    "### Usage\n",
    "\n",
    "The included `names.txt` dataset, as an example, has the most common 32K names takes from [ssa.gov](https://www.ssa.gov/oact/babynames/) for the year 2018. It looks like:\n",
    "\n",
    "```\n",
    "emma\n",
    "olivia\n",
    "ava\n",
    "isabella\n",
    "sophia\n",
    "charlotte\n",
    "...\n",
    "```\n",
    "\n",
    "Let's point the script at it:\n",
    "\n",
    "```bash\n",
    "$ python makemore.py -i names.txt -o names\n",
    "```\n",
    "\n",
    "Training progress and logs and model will all be saved to the working directory `names`. The default model is a super tiny 200K param transformer; Many more training configurations are available - see the argparse and read the code. Training does not require any special hardware, it runs on my Macbook Air and will run on anything else, but if you have a GPU then training will fly faster. As training progresses the script will print some samples throughout. However, if you'd like to sample manually, you can use the `--sample-only` flag, e.g. in a separate terminal do:\n",
    "\n",
    "```bash\n",
    "$ python makemore.py -i names.txt -o names --sample-only\n",
    "```\n",
    "\n",
    "This will load the best model so far and print more samples on demand. Here are some unique baby names that get eventually generated from current default settings (test logprob of ~1.92, though much lower logprobs are achievable with some hyperparameter tuning):\n",
    "\n",
    "```\n",
    "dontell\n",
    "khylum\n",
    "camatena\n",
    "aeriline\n",
    "najlah\n",
    "sherrith\n",
    "ryel\n",
    "irmi\n",
    "taislee\n",
    "mortaz\n",
    "akarli\n",
    "maxfelynn\n",
    "biolett\n",
    "zendy\n",
    "laisa\n",
    "halliliana\n",
    "goralynn\n",
    "brodynn\n",
    "romima\n",
    "chiyomin\n",
    "loghlyn\n",
    "melichae\n",
    "mahmed\n",
    "irot\n",
    "helicha\n",
    "besdy\n",
    "ebokun\n",
    "lucianno\n",
    "```"
   ]
  },
  {
   "cell_type": "markdown",
   "id": "546fc0e4",
   "metadata": {},
   "source": [
    "This is a character level language model, just taking characters and predicting the next one."
   ]
  },
  {
   "cell_type": "markdown",
   "id": "36307cdb",
   "metadata": {},
   "source": [
    "# Makemore Bigram Model\n",
    "_Generting new names using list of names as examples._\n",
    "Bigram models only use two characters in the analysis, so don't expect it to be good. But it's more for pedagogical reasons."
   ]
  },
  {
   "cell_type": "markdown",
   "id": "2ce483c8",
   "metadata": {},
   "source": [
    "Opening names.txt"
   ]
  },
  {
   "cell_type": "code",
   "execution_count": null,
   "id": "4025a661",
   "metadata": {},
   "outputs": [
    {
     "data": {
      "text/plain": [
       "['emma', 'olivia', 'ava', 'isabella', 'sophia', 'charlotte', 'mia']"
      ]
     },
     "execution_count": 13,
     "metadata": {},
     "output_type": "execute_result"
    }
   ],
   "source": [
    "# Wordlist format\n",
    "words = open(\"names.txt\", 'r').read().splitlines()\n",
    "words[:7]"
   ]
  },
  {
   "cell_type": "code",
   "execution_count": null,
   "id": "32acd804",
   "metadata": {},
   "outputs": [
    {
     "data": {
      "text/plain": [
       "32033"
      ]
     },
     "execution_count": 14,
     "metadata": {},
     "output_type": "execute_result"
    }
   ],
   "source": [
    "# Word count\n",
    "len(words)"
   ]
  },
  {
   "cell_type": "code",
   "execution_count": 15,
   "id": "b90ddefe",
   "metadata": {},
   "outputs": [
    {
     "data": {
      "text/plain": [
       "2"
      ]
     },
     "execution_count": 15,
     "metadata": {},
     "output_type": "execute_result"
    }
   ],
   "source": [
    "# Smallest word\n",
    "min(len(word) for word in words)"
   ]
  },
  {
   "cell_type": "code",
   "execution_count": 16,
   "id": "7edf9591",
   "metadata": {},
   "outputs": [
    {
     "data": {
      "text/plain": [
       "15"
      ]
     },
     "execution_count": 16,
     "metadata": {},
     "output_type": "execute_result"
    }
   ],
   "source": [
    "# Longest Word\n",
    "max(len(word) for word in words)"
   ]
  },
  {
   "cell_type": "code",
   "execution_count": null,
   "id": "79ec0b86",
   "metadata": {},
   "outputs": [],
   "source": []
  }
 ],
 "metadata": {
  "kernelspec": {
   "display_name": "Python 3",
   "language": "python",
   "name": "python3"
  },
  "language_info": {
   "codemirror_mode": {
    "name": "ipython",
    "version": 3
   },
   "file_extension": ".py",
   "mimetype": "text/x-python",
   "name": "python",
   "nbconvert_exporter": "python",
   "pygments_lexer": "ipython3",
   "version": "3.13.3"
  }
 },
 "nbformat": 4,
 "nbformat_minor": 5
}
